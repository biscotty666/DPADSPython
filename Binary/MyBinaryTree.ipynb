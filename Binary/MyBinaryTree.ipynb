{
 "cells": [
  {
   "cell_type": "markdown",
   "id": "dd8feb5a-9060-4dac-88fc-38e83803318f",
   "metadata": {},
   "source": [
    "# Binary Tree - User's Example"
   ]
  },
  {
   "cell_type": "markdown",
   "id": "5ed9db0f-851a-4e1e-b4c4-be88e097d5f4",
   "metadata": {},
   "source": [
    "Define User Class"
   ]
  },
  {
   "cell_type": "code",
   "execution_count": 123,
   "id": "13458653-1603-4715-88c4-12b9ed246a65",
   "metadata": {},
   "outputs": [],
   "source": [
    "class User():\n",
    "    def __init__(self, username, name, email):\n",
    "        self.username = username\n",
    "        self.name = name\n",
    "        self.email = email\n",
    "        print(\"User created\")\n",
    "\n",
    "    def insert():\n",
    "        pass\n",
    "\n",
    "    def find():\n",
    "        pass\n",
    "\n",
    "    def update():\n",
    "        pass\n",
    "\n",
    "    def list():\n",
    "        pass\n",
    "\n",
    "    def __repr__(self):\n",
    "#        return \"User(username='{}', name='{}', email='{}')\".format(self.username, self.name, self.email)\n",
    "        return f'User: {self.username}, Name: {self.name}, email: {self.email}'\n",
    "  \n",
    "    def __str__(self):\n",
    "        return self.__repr__()\n"
   ]
  },
  {
   "cell_type": "code",
   "execution_count": 124,
   "id": "b8fc6f26-d9a1-4380-98c3-28a29a06f319",
   "metadata": {},
   "outputs": [
    {
     "name": "stdout",
     "output_type": "stream",
     "text": [
      "User created\n"
     ]
    }
   ],
   "source": [
    "user3 = User(\"anne\", \"Anne\", \"anne@home.gg\")"
   ]
  },
  {
   "cell_type": "code",
   "execution_count": 125,
   "id": "de67869b-1224-4301-b50e-61138f7b63ea",
   "metadata": {},
   "outputs": [
    {
     "name": "stdout",
     "output_type": "stream",
     "text": [
      "User: anne, Name: Anne, email: anne@home.gg\n"
     ]
    }
   ],
   "source": [
    "print(user3.__str__())"
   ]
  },
  {
   "cell_type": "code",
   "execution_count": 126,
   "id": "d382977a-bdd3-41c2-a4e2-a4d2166bff6c",
   "metadata": {},
   "outputs": [
    {
     "data": {
      "text/plain": [
       "User: anne, Name: Anne, email: anne@home.gg"
      ]
     },
     "execution_count": 126,
     "metadata": {},
     "output_type": "execute_result"
    }
   ],
   "source": [
    "user3"
   ]
  },
  {
   "cell_type": "code",
   "execution_count": 127,
   "id": "263a83ce-22a3-4a5b-a1b0-c4d4b56fd08a",
   "metadata": {},
   "outputs": [
    {
     "name": "stdout",
     "output_type": "stream",
     "text": [
      "User created\n",
      "User created\n",
      "User created\n",
      "User created\n",
      "User created\n",
      "User created\n",
      "User created\n"
     ]
    }
   ],
   "source": [
    "aakash = User('aakash', 'Aakash Rai', 'aakash@example.com')\n",
    "biraj = User('biraj', 'Biraj Das', 'biraj@example.com')\n",
    "hemanth = User('hemanth', 'Hemanth Jain', 'hemanth@example.com')\n",
    "jadhesh = User('jadhesh', 'Jadhesh Verma', 'jadhesh@example.com')\n",
    "siddhant = User('siddhant', 'Siddhant Sinha', 'siddhant@example.com')\n",
    "sonaksh = User('sonaksh', 'Sonaksh Kumar', 'sonaksh@example.com')\n",
    "vishal = User('vishal', 'Vishal Goel', 'vishal@example.com')"
   ]
  },
  {
   "cell_type": "markdown",
   "id": "777f63f5-e414-49c9-9caf-85ce18289ed7",
   "metadata": {},
   "source": [
    "Create Class for all users"
   ]
  },
  {
   "cell_type": "code",
   "execution_count": 128,
   "id": "077fff5e-dae6-431a-aa2a-b0df47b9f4aa",
   "metadata": {},
   "outputs": [],
   "source": [
    "users = [aakash, biraj, hemanth, jadhesh, siddhant, sonaksh, vishal]"
   ]
  },
  {
   "cell_type": "code",
   "execution_count": 129,
   "id": "e416b644-b564-4cf9-98de-ffe2614e02c0",
   "metadata": {},
   "outputs": [
    {
     "data": {
      "text/plain": [
       "[User: aakash, Name: Aakash Rai, email: aakash@example.com,\n",
       " User: biraj, Name: Biraj Das, email: biraj@example.com,\n",
       " User: hemanth, Name: Hemanth Jain, email: hemanth@example.com,\n",
       " User: jadhesh, Name: Jadhesh Verma, email: jadhesh@example.com,\n",
       " User: siddhant, Name: Siddhant Sinha, email: siddhant@example.com,\n",
       " User: sonaksh, Name: Sonaksh Kumar, email: sonaksh@example.com,\n",
       " User: vishal, Name: Vishal Goel, email: vishal@example.com]"
      ]
     },
     "execution_count": 129,
     "metadata": {},
     "output_type": "execute_result"
    }
   ],
   "source": [
    "users"
   ]
  },
  {
   "cell_type": "code",
   "execution_count": 130,
   "id": "a772b42b-14d9-4b2d-9406-b7bca98978ee",
   "metadata": {},
   "outputs": [
    {
     "data": {
      "text/plain": [
       "('biraj', 'biraj@example.com', 'Biraj Das')"
      ]
     },
     "execution_count": 130,
     "metadata": {},
     "output_type": "execute_result"
    }
   ],
   "source": [
    "biraj.username, biraj.email, biraj.name"
   ]
  },
  {
   "cell_type": "code",
   "execution_count": 131,
   "id": "0d1f2d9e-5020-42d8-bb12-118d60f2cf83",
   "metadata": {},
   "outputs": [
    {
     "name": "stdout",
     "output_type": "stream",
     "text": [
      "User: aakash, Name: Aakash Rai, email: aakash@example.com\n"
     ]
    }
   ],
   "source": [
    "print(aakash)"
   ]
  },
  {
   "cell_type": "code",
   "execution_count": 132,
   "id": "a5819258-6058-4851-9779-60013891b7eb",
   "metadata": {},
   "outputs": [],
   "source": [
    "class UserDatabase:\n",
    "    def __init__(self):\n",
    "        self.users = []\n",
    "\n",
    "    def insert(self, user):\n",
    "        i = 0\n",
    "        while i < len(self.users):\n",
    "            if self.users[i].username > user.username:\n",
    "                break\n",
    "            i += 1\n",
    "        self.users.insert(i, user)\n",
    "\n",
    "    def find(self, username):\n",
    "        for user in self.users:\n",
    "            if user.username == username:\n",
    "                return user\n",
    "\n",
    "    def update(self, user):\n",
    "        target = self.find(user.username)\n",
    "        target.name, target.email = user.name, user.email\n",
    "\n",
    "    def list(self):\n",
    "        return self.users\n",
    "    "
   ]
  },
  {
   "cell_type": "code",
   "execution_count": 133,
   "id": "dbd4cb97-0e8f-49b1-973b-14a47403f066",
   "metadata": {},
   "outputs": [],
   "source": [
    "database = UserDatabase()"
   ]
  },
  {
   "cell_type": "code",
   "execution_count": 134,
   "id": "91566de7-d5cd-4009-af58-f5206e4a17b3",
   "metadata": {},
   "outputs": [],
   "source": [
    "## Test database functions"
   ]
  },
  {
   "cell_type": "code",
   "execution_count": 136,
   "id": "db68b155-b17b-4045-a2a4-f3cb0f29a2f5",
   "metadata": {},
   "outputs": [],
   "source": [
    "database.insert(hemanth)\n",
    "database.insert(aakash)\n",
    "database.insert(siddhant)"
   ]
  },
  {
   "cell_type": "code",
   "execution_count": 137,
   "id": "2cb4b1c1-70b5-48db-8616-4739fab8b16a",
   "metadata": {},
   "outputs": [
    {
     "data": {
      "text/plain": [
       "User: siddhant, Name: Siddhant Sinha, email: siddhant@example.com"
      ]
     },
     "execution_count": 137,
     "metadata": {},
     "output_type": "execute_result"
    }
   ],
   "source": [
    "user = database.find('siddhant')\n",
    "user"
   ]
  },
  {
   "cell_type": "code",
   "execution_count": 138,
   "id": "14c43ef6-7d0a-4ba4-8b56-a9d0091d0d2b",
   "metadata": {},
   "outputs": [
    {
     "name": "stdout",
     "output_type": "stream",
     "text": [
      "User created\n"
     ]
    }
   ],
   "source": [
    "database.update(User(username='siddhant',\n",
    "                     name='Suddhant U',\n",
    "                     email = 'siddhantu@example.com'))"
   ]
  },
  {
   "cell_type": "code",
   "execution_count": 139,
   "id": "1dd168c8-e56e-4157-b703-c80e9252e9de",
   "metadata": {},
   "outputs": [
    {
     "data": {
      "text/plain": [
       "User: siddhant, Name: Suddhant U, email: siddhantu@example.com"
      ]
     },
     "execution_count": 139,
     "metadata": {},
     "output_type": "execute_result"
    }
   ],
   "source": [
    "user = database.find('siddhant')\n",
    "user"
   ]
  },
  {
   "cell_type": "code",
   "execution_count": 140,
   "id": "7a37e5cf-40df-4fde-86bd-64fc5f01bed9",
   "metadata": {},
   "outputs": [
    {
     "data": {
      "text/plain": [
       "[User: aakash, Name: Aakash Rai, email: aakash@example.com,\n",
       " User: hemanth, Name: Hemanth Jain, email: hemanth@example.com,\n",
       " User: siddhant, Name: Suddhant U, email: siddhantu@example.com]"
      ]
     },
     "execution_count": 140,
     "metadata": {},
     "output_type": "execute_result"
    }
   ],
   "source": [
    "database.list()"
   ]
  },
  {
   "cell_type": "code",
   "execution_count": 141,
   "id": "cee98564-3e58-4ffd-8da2-90f180af40b2",
   "metadata": {},
   "outputs": [],
   "source": [
    "database.insert(biraj)"
   ]
  },
  {
   "cell_type": "code",
   "execution_count": 142,
   "id": "de1bb592-f46d-4d17-8ba3-01395adaff1b",
   "metadata": {},
   "outputs": [
    {
     "data": {
      "text/plain": [
       "[User: aakash, Name: Aakash Rai, email: aakash@example.com,\n",
       " User: biraj, Name: Biraj Das, email: biraj@example.com,\n",
       " User: hemanth, Name: Hemanth Jain, email: hemanth@example.com,\n",
       " User: siddhant, Name: Suddhant U, email: siddhantu@example.com]"
      ]
     },
     "execution_count": 142,
     "metadata": {},
     "output_type": "execute_result"
    }
   ],
   "source": [
    "database.list()"
   ]
  },
  {
   "cell_type": "code",
   "execution_count": 144,
   "id": "504e3a68-4143-44dd-8b20-c7978628de70",
   "metadata": {},
   "outputs": [
    {
     "name": "stdout",
     "output_type": "stream",
     "text": [
      "CPU times: user 11.1 s, sys: 0 ns, total: 11.1 s\n",
      "Wall time: 11.1 s\n"
     ]
    }
   ],
   "source": [
    "%%time\n",
    "for i in range(100000000):\n",
    "    j = i*i"
   ]
  },
  {
   "cell_type": "markdown",
   "id": "12cdbf46-d433-4544-8b26-7fef72469692",
   "metadata": {},
   "source": [
    "## Simple Binary Tree\n",
    "\n",
    "<img src=\"https://i.imgur.com/hg2ZG5h.png\" width=\"240\">"
   ]
  },
  {
   "cell_type": "code",
   "execution_count": 242,
   "id": "e8bc47b2-25aa-4648-84dd-9f2c5aea71f8",
   "metadata": {},
   "outputs": [],
   "source": [
    "class TreeNode:\n",
    "    def __init__(self, key):\n",
    "        self.key = key\n",
    "        self.left = None\n",
    "        self.right = None\n",
    "\n",
    "#    def __repr__(self):\n",
    "#        return f'Key: {self.key}\\t Left: {self.left}\\t Right: {self.right}'\n",
    "\n",
    "#    def __str__(self):\n",
    "#        return self.__repr__()\n",
    "\n"
   ]
  },
  {
   "cell_type": "code",
   "execution_count": 243,
   "id": "bfb24410-0897-4240-974d-48ec489fb664",
   "metadata": {},
   "outputs": [],
   "source": [
    "node0 = TreeNode(3)\n",
    "node1 = TreeNode(4)\n",
    "node2 = TreeNode(5)"
   ]
  },
  {
   "cell_type": "code",
   "execution_count": 244,
   "id": "c742d857-c4ca-479d-a1d3-c47dc1c7548e",
   "metadata": {},
   "outputs": [
    {
     "data": {
      "text/plain": [
       "3"
      ]
     },
     "execution_count": 244,
     "metadata": {},
     "output_type": "execute_result"
    }
   ],
   "source": [
    "node0.key"
   ]
  },
  {
   "cell_type": "code",
   "execution_count": 245,
   "id": "ba1219bc-67d9-4006-adc3-475a66c80f52",
   "metadata": {},
   "outputs": [
    {
     "data": {
      "text/plain": [
       "<__main__.TreeNode at 0x7ff664795b80>"
      ]
     },
     "execution_count": 245,
     "metadata": {},
     "output_type": "execute_result"
    }
   ],
   "source": [
    "node0"
   ]
  },
  {
   "cell_type": "code",
   "execution_count": 246,
   "id": "cff9a186-92fb-42e9-8a09-96619d20960e",
   "metadata": {},
   "outputs": [],
   "source": [
    "node0.left = node1\n",
    "node0.right = node2"
   ]
  },
  {
   "cell_type": "markdown",
   "id": "169c484d-8684-43ee-a813-50673e699f67",
   "metadata": {},
   "source": [
    "### Create a variable for the root node"
   ]
  },
  {
   "cell_type": "code",
   "execution_count": 247,
   "id": "a06429ff-3ebd-4b8d-9494-83a9558bf60f",
   "metadata": {},
   "outputs": [],
   "source": [
    "tree = node0"
   ]
  },
  {
   "cell_type": "code",
   "execution_count": 248,
   "id": "02966545-2e9e-420f-ad18-933255b716cf",
   "metadata": {},
   "outputs": [
    {
     "data": {
      "text/plain": [
       "3"
      ]
     },
     "execution_count": 248,
     "metadata": {},
     "output_type": "execute_result"
    }
   ],
   "source": [
    "tree.key"
   ]
  },
  {
   "cell_type": "code",
   "execution_count": 249,
   "id": "55f2f24b-24ff-4e8c-8b94-6ef7b9908544",
   "metadata": {},
   "outputs": [
    {
     "data": {
      "text/plain": [
       "4"
      ]
     },
     "execution_count": 249,
     "metadata": {},
     "output_type": "execute_result"
    }
   ],
   "source": [
    "tree.left.key"
   ]
  },
  {
   "cell_type": "code",
   "execution_count": 250,
   "id": "1376beac-f828-4883-a919-fb057246c1e1",
   "metadata": {},
   "outputs": [
    {
     "data": {
      "text/plain": [
       "5"
      ]
     },
     "execution_count": 250,
     "metadata": {},
     "output_type": "execute_result"
    }
   ],
   "source": [
    "tree.right.key"
   ]
  },
  {
   "cell_type": "markdown",
   "id": "0d1af997-d14d-4b88-866b-ba261c3b79c8",
   "metadata": {},
   "source": [
    "<img src=\"https://i.imgur.com/d7djJAf.png\" width=\"540\">"
   ]
  },
  {
   "cell_type": "code",
   "execution_count": 251,
   "id": "a435bc4f-6824-4d08-8b49-4bce414e1756",
   "metadata": {},
   "outputs": [],
   "source": [
    "node1 = TreeNode(1)"
   ]
  },
  {
   "cell_type": "code",
   "execution_count": 252,
   "id": "9e52b5cf-cefa-406b-8586-5cc964548aa2",
   "metadata": {},
   "outputs": [],
   "source": [
    "node3 = TreeNode(3)"
   ]
  },
  {
   "cell_type": "code",
   "execution_count": 253,
   "id": "9d5f630c-f53f-4a81-8b94-d1bd7c9c3286",
   "metadata": {},
   "outputs": [],
   "source": [
    "node1.left = node3"
   ]
  },
  {
   "cell_type": "markdown",
   "id": "3f8c8fb9-cd1c-444c-9048-d06220a66c2d",
   "metadata": {},
   "source": [
    "It's a bit inconvenient to create a tree by manually connecting all the nodes. Let's write a helper function which can convert a tuple with the structure `( left_subtree, key, right_subtree)` (where `left_subtree` and `right_subtree` are themselves tuples) into binary tree.\n",
    "\n",
    "Here's an tuple representing the tree shown above:"
   ]
  },
  {
   "cell_type": "code",
   "execution_count": 254,
   "id": "87683611-ca92-4581-9caa-2b9236ab92e8",
   "metadata": {},
   "outputs": [],
   "source": [
    "tree_tuple = ((1,3,None), 2, ((None, 3, 4), 5, (6, 7, 8)))"
   ]
  },
  {
   "cell_type": "code",
   "execution_count": 255,
   "id": "2637508f-b23d-4142-a940-66bb5a579651",
   "metadata": {},
   "outputs": [],
   "source": [
    "def parse_tuple(data):\n",
    "    print(data)\n",
    "    if isinstance(data, tuple) and len(data) == 3:\n",
    "        node = TreeNode(data[1])\n",
    "        node.left = parse_tuple(data[0])\n",
    "        node.right = parse_tuple(data[2])\n",
    "#        print(f'isinstance: data {data} \\t {node}')\n",
    "\n",
    "    elif data is None:\n",
    "        node = None\n",
    "#        print(f'data is None: data {data} \\t {node}')\n",
    "\n",
    "    else:\n",
    "        node = TreeNode(data)\n",
    "#        print(f'else: data {data} \\t {node}')\n",
    "\n",
    "    return node"
   ]
  },
  {
   "cell_type": "code",
   "execution_count": 256,
   "id": "da45c1aa-f755-4466-adf6-639c1a1b151a",
   "metadata": {},
   "outputs": [
    {
     "name": "stdout",
     "output_type": "stream",
     "text": [
      "((1, 3, None), 2, ((None, 3, 4), 5, (6, 7, 8)))\n",
      "(1, 3, None)\n",
      "1\n",
      "None\n",
      "((None, 3, 4), 5, (6, 7, 8))\n",
      "(None, 3, 4)\n",
      "None\n",
      "4\n",
      "(6, 7, 8)\n",
      "6\n",
      "8\n"
     ]
    },
    {
     "data": {
      "text/plain": [
       "<__main__.TreeNode at 0x7ff664796570>"
      ]
     },
     "execution_count": 256,
     "metadata": {},
     "output_type": "execute_result"
    }
   ],
   "source": [
    "tree2 = parse_tuple(tree_tuple)\n",
    "tree2"
   ]
  },
  {
   "cell_type": "code",
   "execution_count": 257,
   "id": "a7681556-4b74-4b08-81c1-a6848ce6bea1",
   "metadata": {},
   "outputs": [
    {
     "data": {
      "text/plain": [
       "2"
      ]
     },
     "execution_count": 257,
     "metadata": {},
     "output_type": "execute_result"
    }
   ],
   "source": [
    "tree2.key"
   ]
  },
  {
   "cell_type": "code",
   "execution_count": 258,
   "id": "11bfb495-5c93-4259-8d0f-0173697faa94",
   "metadata": {},
   "outputs": [
    {
     "data": {
      "text/plain": [
       "(3, 5)"
      ]
     },
     "execution_count": 258,
     "metadata": {},
     "output_type": "execute_result"
    }
   ],
   "source": [
    "tree2.left.key, tree2.right.key"
   ]
  },
  {
   "cell_type": "code",
   "execution_count": 259,
   "id": "674f6769-f419-4b06-a8f5-e1e32004bc4b",
   "metadata": {},
   "outputs": [
    {
     "data": {
      "text/plain": [
       "(1, None, 3, 7)"
      ]
     },
     "execution_count": 259,
     "metadata": {},
     "output_type": "execute_result"
    }
   ],
   "source": [
    "tree2.left.left.key, tree2.left.right, tree2.right.left.key, tree2.right.right.key"
   ]
  },
  {
   "cell_type": "code",
   "execution_count": 260,
   "id": "3ebb1026-ef01-47e9-9b6e-fa6e1aee9815",
   "metadata": {},
   "outputs": [
    {
     "data": {
      "text/plain": [
       "(4, 6, 8)"
      ]
     },
     "execution_count": 260,
     "metadata": {},
     "output_type": "execute_result"
    }
   ],
   "source": [
    "tree2.right.left.right.key, tree2.right.right.left.key, tree2.right.right.right.key"
   ]
  },
  {
   "cell_type": "code",
   "execution_count": 265,
   "id": "af8fc421-81bd-4c10-a598-8800720c2013",
   "metadata": {},
   "outputs": [],
   "source": [
    "def tree_to_tuple(tree):\n",
    "    if tree is None:\n",
    "        return None\n",
    "    if tree.left is None and tree.right is None:\n",
    "        return tree.key\n",
    "    return tree_to_tuple(tree.left),tree.key,tree_to_tuple(tree.right) "
   ]
  },
  {
   "cell_type": "code",
   "execution_count": 266,
   "id": "c788a997-68de-4baa-aa05-2e9f9c2b8123",
   "metadata": {},
   "outputs": [
    {
     "data": {
      "text/plain": [
       "((1, 3, None), 2, ((None, 3, 4), 5, (6, 7, 8)))"
      ]
     },
     "execution_count": 266,
     "metadata": {},
     "output_type": "execute_result"
    }
   ],
   "source": [
    "tree_to_tuple(tree2)"
   ]
  },
  {
   "cell_type": "code",
   "execution_count": null,
   "id": "ffa27ab8-2b34-47e9-ac7b-9e19a9d097fb",
   "metadata": {},
   "outputs": [],
   "source": []
  }
 ],
 "metadata": {
  "kernelspec": {
   "display_name": "Python 3 (ipykernel)",
   "language": "python",
   "name": "python3"
  },
  "language_info": {
   "codemirror_mode": {
    "name": "ipython",
    "version": 3
   },
   "file_extension": ".py",
   "mimetype": "text/x-python",
   "name": "python",
   "nbconvert_exporter": "python",
   "pygments_lexer": "ipython3",
   "version": "3.12.1"
  }
 },
 "nbformat": 4,
 "nbformat_minor": 5
}
