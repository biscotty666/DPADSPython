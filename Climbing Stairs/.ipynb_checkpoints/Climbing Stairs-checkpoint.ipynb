{
 "cells": [
  {
   "cell_type": "code",
   "execution_count": 2,
   "id": "52979119-a502-4017-9ac2-71520b08be72",
   "metadata": {},
   "outputs": [],
   "source": [
    "class Solution:\n",
    "    def climbStairs(self, n: int) -> int:\n",
    "    \tone, two = 1, 1\n",
    "\n",
    "    \tfor i in range(n-1):\n",
    "    \t\ttemp = one\n",
    "    \t\tone = one + two\n",
    "    \t\ttwo = temp\n",
    "\n",
    "    \treturn one\n"
   ]
  },
  {
   "cell_type": "code",
   "execution_count": 3,
   "id": "d5013562-1022-4f4f-be90-c235fd999c9c",
   "metadata": {},
   "outputs": [],
   "source": [
    "res = Solution()"
   ]
  },
  {
   "cell_type": "code",
   "execution_count": 4,
   "id": "e7c96ad4-84db-45ce-9eb3-acb2d83aa678",
   "metadata": {},
   "outputs": [
    {
     "data": {
      "text/plain": [
       "8"
      ]
     },
     "execution_count": 4,
     "metadata": {},
     "output_type": "execute_result"
    }
   ],
   "source": [
    "res.climbStairs(5)"
   ]
  },
  {
   "cell_type": "code",
   "execution_count": 6,
   "id": "0e1b5c5a-2b79-4e52-99d1-d171a6a79af6",
   "metadata": {},
   "outputs": [
    {
     "data": {
      "text/plain": [
       "34"
      ]
     },
     "execution_count": 6,
     "metadata": {},
     "output_type": "execute_result"
    }
   ],
   "source": [
    "Solution().climbStairs(8)"
   ]
  },
  {
   "cell_type": "markdown",
   "id": "44bb81a3-bec9-41b1-8230-15a3c52b5bcf",
   "metadata": {},
   "source": [
    "## Climbing Stairs\n",
    "\n",
    "### Problem\n",
    "You are climbing a staircase. It takes $n$ steps to reach the top. Each time you can either climb 1 or 2 steps. In how many distinct ways can you climb to the top?\n",
    "\n",
    "Ex 1:\n",
    "\n",
    "Input: n = 2\n",
    "Output: 2\n",
    "Explanation: There are two ways to climb to the top.\n",
    "1. 1 step + 1 step\n",
    "2. 2 steps\n",
    "\n",
    "Ex 2:\n",
    "\n",
    "Input: n = 3\n",
    "Output: 3\n",
    "Explanation: There are three ways to climb to the top.\n",
    "1. 1 step + 2 steps\n",
    "2. 2 steps + 1 step\n",
    "3. 1 step + 1 step + 1 step\n",
    "\n",
    "![](20231223212637.png)\n",
    "\n",
    "\n",
    "If solving this problem recursively with depth first search (dfs), since there are two decisions possible at each level, the time complexity would be O$(2^n)$.\n",
    "\n",
    "Note that there are multiple sub-problems, for which calculations do not need to be repeated, resulting in time complexity of O$(n)$ by using memoization.\n",
    "\n",
    "![](20231223213559.png)\n",
    "\n",
    "Alternatively it can be solved with dynamic programming using a bottom-up approach.\n",
    "\n",
    "\n",
    "![](20231223214206.png)\n",
    "\n",
    "Build an array starting with the base case of 5 = 1. Note that, in each case the number of possible routes is the sum of the prior 2 values. Therefor we do not need an array, only 2 variables. This gives a space complexity of O$(1)$. \n",
    "\n",
    "Loop $n-1$ times until variable $one$ is in position 0.\n",
    "\n",
    "![](20231223214700.png)\n",
    "\n",
    "### Solution\n",
    "\n",
    "```python\n",
    "def climbStairs(n: int) -> int:\n",
    "\tone, two = 1, 1\n",
    "\n",
    "\tfor i in range(n-1):\n",
    "\t\ttemp = one\n",
    "\t\tone = one + two\n",
    "\t\ttwo = temp\n",
    "\n",
    "\treturn one\n",
    "\n",
    "print(climbStairs(5))\n",
    "```\n",
    "\n",
    "\n"
   ]
  },
  {
   "cell_type": "code",
   "execution_count": null,
   "id": "6c44da17-70ab-4e09-8163-eff5c061b773",
   "metadata": {},
   "outputs": [],
   "source": []
  }
 ],
 "metadata": {
  "kernelspec": {
   "display_name": "Python 3 (ipykernel)",
   "language": "python",
   "name": "python3"
  },
  "language_info": {
   "codemirror_mode": {
    "name": "ipython",
    "version": 3
   },
   "file_extension": ".py",
   "mimetype": "text/x-python",
   "name": "python",
   "nbconvert_exporter": "python",
   "pygments_lexer": "ipython3",
   "version": "3.12.1"
  }
 },
 "nbformat": 4,
 "nbformat_minor": 5
}
