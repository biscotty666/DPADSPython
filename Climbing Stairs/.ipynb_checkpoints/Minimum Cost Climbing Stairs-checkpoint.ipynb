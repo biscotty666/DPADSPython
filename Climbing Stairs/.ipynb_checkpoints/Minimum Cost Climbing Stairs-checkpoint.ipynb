{
 "cells": [
  {
   "cell_type": "code",
   "execution_count": 1,
   "id": "83309c63-1f12-4422-a9ae-bdd5d0e142fa",
   "metadata": {},
   "outputs": [
    {
     "name": "stdout",
     "output_type": "stream",
     "text": [
      "15\n"
     ]
    }
   ],
   "source": [
    "class Solution:\n",
    "\tdef minCostClimbingStairs(self, cost: list[int]) -> int:\n",
    "\t\tcost.append(0)\n",
    "\t\tfor i in range(len(cost) - 3, -1, -1):\n",
    "\t\t\tcost[i] += min(cost[i + 1], cost[i + 2])\n",
    "\t\treturn min(cost[0], cost[1])\n",
    "\t\t\t\t\n",
    "res = Solution()\n",
    "array = [10,15,20]\n",
    "print(res.minCostClimbingStairs(array))"
   ]
  },
  {
   "cell_type": "markdown",
   "id": "83775795-bd26-44cc-8818-8642daba6c38",
   "metadata": {},
   "source": [
    "## Min Cost Climbing Stairs\n",
    "\n",
    "### Problem\n",
    "Given an integer array $cost$ where $cost[i]$ is the cost of the $i^{th}$ step on a staircase. Once you pay the cost, you can either climb one or two steps. \n",
    "\n",
    "You can start from index 0 or index 1.\n",
    "\n",
    "Return the minimum cost to reach the top of the floor.\n",
    "\n",
    "#### Example 1\n",
    "```\n",
    "Input: cost = [10,15,20]\n",
    "Ouput: 15\n",
    "Explanation: Cheapest is start on cost[1], pay that cost and go to the top\n",
    "```\n",
    "\n",
    "#### Example 2\n",
    "\n",
    "```\n",
    "Input: cost = [1,100,1,1,1,100,1,1,100,1]\n",
    "Output: 6\n",
    "Explanation: start on cost[0], only step on 1s\n",
    "```\n",
    "\n",
    "\n",
    "![](20231223223701.png)\n",
    "\n",
    "Time complexity O$(2^n)$. Using memoization, we can reduce to O$(n)$. There are $n$ sub-problems. As in the [[Climbing Stairs]] problem only 2 variables are need, not an entire array, reducing the space complexity to O$(1)$.\n",
    "\n",
    "Add a final position, the last step, with 0 cost. Recurse backwards, replacing the step's cost with the minimum total cost to the last position. The final result with be the minimum of the first two positions.\n",
    "\n",
    "![](20231223224413.png)\n",
    "\n",
    "```run-python\n",
    "class Solution:\n",
    "\tdef minCostClimbingStairs(self, cost: list[int]) -> int:\n",
    "\t\tcost.append(0)\n",
    "\t\tfor i in range(len(cost) - 3, -1, -1):\n",
    "\t\t\tcost[i] += min(cost[i + 1], cost[i + 2])\n",
    "\t\treturn min(cost[0], cost[1])\n",
    "\t\t\t\t\n",
    "res = Solution()\n",
    "array = [10,15,20]\n",
    "print(res.minCostClimbingStairs(array))\n",
    "```\n"
   ]
  },
  {
   "cell_type": "code",
   "execution_count": null,
   "id": "6ea16859-c338-4ed9-b7de-4c219aa2bacc",
   "metadata": {},
   "outputs": [],
   "source": []
  }
 ],
 "metadata": {
  "kernelspec": {
   "display_name": "Python 3 (ipykernel)",
   "language": "python",
   "name": "python3"
  },
  "language_info": {
   "codemirror_mode": {
    "name": "ipython",
    "version": 3
   },
   "file_extension": ".py",
   "mimetype": "text/x-python",
   "name": "python",
   "nbconvert_exporter": "python",
   "pygments_lexer": "ipython3",
   "version": "3.12.1"
  }
 },
 "nbformat": 4,
 "nbformat_minor": 5
}
