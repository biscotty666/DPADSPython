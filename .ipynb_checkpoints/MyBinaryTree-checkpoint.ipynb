{
 "cells": [
  {
   "cell_type": "markdown",
   "id": "dd8feb5a-9060-4dac-88fc-38e83803318f",
   "metadata": {},
   "source": [
    "# Binary Tree - User's Example"
   ]
  },
  {
   "cell_type": "markdown",
   "id": "5ed9db0f-851a-4e1e-b4c4-be88e097d5f4",
   "metadata": {},
   "source": [
    "Define User Class"
   ]
  },
  {
   "cell_type": "code",
   "execution_count": 123,
   "id": "13458653-1603-4715-88c4-12b9ed246a65",
   "metadata": {},
   "outputs": [],
   "source": [
    "class User():\n",
    "    def __init__(self, username, name, email):\n",
    "        self.username = username\n",
    "        self.name = name\n",
    "        self.email = email\n",
    "        print(\"User created\")\n",
    "\n",
    "    def insert():\n",
    "        pass\n",
    "\n",
    "    def find():\n",
    "        pass\n",
    "\n",
    "    def update():\n",
    "        pass\n",
    "\n",
    "    def list():\n",
    "        pass\n",
    "\n",
    "    def __repr__(self):\n",
    "#        return \"User(username='{}', name='{}', email='{}')\".format(self.username, self.name, self.email)\n",
    "        return f'User: {self.username}, Name: {self.name}, email: {self.email}'\n",
    "  \n",
    "    def __str__(self):\n",
    "        return self.__repr__()\n"
   ]
  },
  {
   "cell_type": "code",
   "execution_count": 124,
   "id": "b8fc6f26-d9a1-4380-98c3-28a29a06f319",
   "metadata": {},
   "outputs": [
    {
     "name": "stdout",
     "output_type": "stream",
     "text": [
      "User created\n"
     ]
    }
   ],
   "source": [
    "user3 = User(\"anne\", \"Anne\", \"anne@home.gg\")"
   ]
  },
  {
   "cell_type": "code",
   "execution_count": 125,
   "id": "de67869b-1224-4301-b50e-61138f7b63ea",
   "metadata": {},
   "outputs": [
    {
     "name": "stdout",
     "output_type": "stream",
     "text": [
      "User: anne, Name: Anne, email: anne@home.gg\n"
     ]
    }
   ],
   "source": [
    "print(user3.__str__())"
   ]
  },
  {
   "cell_type": "code",
   "execution_count": 126,
   "id": "d382977a-bdd3-41c2-a4e2-a4d2166bff6c",
   "metadata": {},
   "outputs": [
    {
     "data": {
      "text/plain": [
       "User: anne, Name: Anne, email: anne@home.gg"
      ]
     },
     "execution_count": 126,
     "metadata": {},
     "output_type": "execute_result"
    }
   ],
   "source": [
    "user3"
   ]
  },
  {
   "cell_type": "code",
   "execution_count": 127,
   "id": "263a83ce-22a3-4a5b-a1b0-c4d4b56fd08a",
   "metadata": {},
   "outputs": [
    {
     "name": "stdout",
     "output_type": "stream",
     "text": [
      "User created\n",
      "User created\n",
      "User created\n",
      "User created\n",
      "User created\n",
      "User created\n",
      "User created\n"
     ]
    }
   ],
   "source": [
    "aakash = User('aakash', 'Aakash Rai', 'aakash@example.com')\n",
    "biraj = User('biraj', 'Biraj Das', 'biraj@example.com')\n",
    "hemanth = User('hemanth', 'Hemanth Jain', 'hemanth@example.com')\n",
    "jadhesh = User('jadhesh', 'Jadhesh Verma', 'jadhesh@example.com')\n",
    "siddhant = User('siddhant', 'Siddhant Sinha', 'siddhant@example.com')\n",
    "sonaksh = User('sonaksh', 'Sonaksh Kumar', 'sonaksh@example.com')\n",
    "vishal = User('vishal', 'Vishal Goel', 'vishal@example.com')"
   ]
  },
  {
   "cell_type": "markdown",
   "id": "777f63f5-e414-49c9-9caf-85ce18289ed7",
   "metadata": {},
   "source": [
    "Create Class for all users"
   ]
  },
  {
   "cell_type": "code",
   "execution_count": 128,
   "id": "077fff5e-dae6-431a-aa2a-b0df47b9f4aa",
   "metadata": {},
   "outputs": [],
   "source": [
    "users = [aakash, biraj, hemanth, jadhesh, siddhant, sonaksh, vishal]"
   ]
  },
  {
   "cell_type": "code",
   "execution_count": 129,
   "id": "e416b644-b564-4cf9-98de-ffe2614e02c0",
   "metadata": {},
   "outputs": [
    {
     "data": {
      "text/plain": [
       "[User: aakash, Name: Aakash Rai, email: aakash@example.com,\n",
       " User: biraj, Name: Biraj Das, email: biraj@example.com,\n",
       " User: hemanth, Name: Hemanth Jain, email: hemanth@example.com,\n",
       " User: jadhesh, Name: Jadhesh Verma, email: jadhesh@example.com,\n",
       " User: siddhant, Name: Siddhant Sinha, email: siddhant@example.com,\n",
       " User: sonaksh, Name: Sonaksh Kumar, email: sonaksh@example.com,\n",
       " User: vishal, Name: Vishal Goel, email: vishal@example.com]"
      ]
     },
     "execution_count": 129,
     "metadata": {},
     "output_type": "execute_result"
    }
   ],
   "source": [
    "users"
   ]
  },
  {
   "cell_type": "code",
   "execution_count": 130,
   "id": "a772b42b-14d9-4b2d-9406-b7bca98978ee",
   "metadata": {},
   "outputs": [
    {
     "data": {
      "text/plain": [
       "('biraj', 'biraj@example.com', 'Biraj Das')"
      ]
     },
     "execution_count": 130,
     "metadata": {},
     "output_type": "execute_result"
    }
   ],
   "source": [
    "biraj.username, biraj.email, biraj.name"
   ]
  },
  {
   "cell_type": "code",
   "execution_count": 131,
   "id": "0d1f2d9e-5020-42d8-bb12-118d60f2cf83",
   "metadata": {},
   "outputs": [
    {
     "name": "stdout",
     "output_type": "stream",
     "text": [
      "User: aakash, Name: Aakash Rai, email: aakash@example.com\n"
     ]
    }
   ],
   "source": [
    "print(aakash)"
   ]
  },
  {
   "cell_type": "code",
   "execution_count": 132,
   "id": "a5819258-6058-4851-9779-60013891b7eb",
   "metadata": {},
   "outputs": [],
   "source": [
    "class UserDatabase:\n",
    "    def __init__(self):\n",
    "        self.users = []\n",
    "\n",
    "    def insert(self, user):\n",
    "        i = 0\n",
    "        while i < len(self.users):\n",
    "            if self.users[i].username > user.username:\n",
    "                break\n",
    "            i += 1\n",
    "        self.users.insert(i, user)\n",
    "\n",
    "    def find(self, username):\n",
    "        for user in self.users:\n",
    "            if user.username == username:\n",
    "                return user\n",
    "\n",
    "    def update(self, user):\n",
    "        target = self.find(user.username)\n",
    "        target.name, target.email = user.name, user.email\n",
    "\n",
    "    def list(self):\n",
    "        return self.users\n",
    "    "
   ]
  },
  {
   "cell_type": "code",
   "execution_count": 133,
   "id": "dbd4cb97-0e8f-49b1-973b-14a47403f066",
   "metadata": {},
   "outputs": [],
   "source": [
    "database = UserDatabase()"
   ]
  },
  {
   "cell_type": "code",
   "execution_count": 134,
   "id": "91566de7-d5cd-4009-af58-f5206e4a17b3",
   "metadata": {},
   "outputs": [],
   "source": [
    "## Test database functions"
   ]
  },
  {
   "cell_type": "code",
   "execution_count": 136,
   "id": "db68b155-b17b-4045-a2a4-f3cb0f29a2f5",
   "metadata": {},
   "outputs": [],
   "source": [
    "database.insert(hemanth)\n",
    "database.insert(aakash)\n",
    "database.insert(siddhant)"
   ]
  },
  {
   "cell_type": "code",
   "execution_count": 137,
   "id": "2cb4b1c1-70b5-48db-8616-4739fab8b16a",
   "metadata": {},
   "outputs": [
    {
     "data": {
      "text/plain": [
       "User: siddhant, Name: Siddhant Sinha, email: siddhant@example.com"
      ]
     },
     "execution_count": 137,
     "metadata": {},
     "output_type": "execute_result"
    }
   ],
   "source": [
    "user = database.find('siddhant')\n",
    "user"
   ]
  },
  {
   "cell_type": "code",
   "execution_count": 138,
   "id": "14c43ef6-7d0a-4ba4-8b56-a9d0091d0d2b",
   "metadata": {},
   "outputs": [
    {
     "name": "stdout",
     "output_type": "stream",
     "text": [
      "User created\n"
     ]
    }
   ],
   "source": [
    "database.update(User(username='siddhant',\n",
    "                     name='Suddhant U',\n",
    "                     email = 'siddhantu@example.com'))"
   ]
  },
  {
   "cell_type": "code",
   "execution_count": 139,
   "id": "1dd168c8-e56e-4157-b703-c80e9252e9de",
   "metadata": {},
   "outputs": [
    {
     "data": {
      "text/plain": [
       "User: siddhant, Name: Suddhant U, email: siddhantu@example.com"
      ]
     },
     "execution_count": 139,
     "metadata": {},
     "output_type": "execute_result"
    }
   ],
   "source": [
    "user = database.find('siddhant')\n",
    "user"
   ]
  },
  {
   "cell_type": "code",
   "execution_count": 140,
   "id": "7a37e5cf-40df-4fde-86bd-64fc5f01bed9",
   "metadata": {},
   "outputs": [
    {
     "data": {
      "text/plain": [
       "[User: aakash, Name: Aakash Rai, email: aakash@example.com,\n",
       " User: hemanth, Name: Hemanth Jain, email: hemanth@example.com,\n",
       " User: siddhant, Name: Suddhant U, email: siddhantu@example.com]"
      ]
     },
     "execution_count": 140,
     "metadata": {},
     "output_type": "execute_result"
    }
   ],
   "source": [
    "database.list()"
   ]
  },
  {
   "cell_type": "code",
   "execution_count": 141,
   "id": "cee98564-3e58-4ffd-8da2-90f180af40b2",
   "metadata": {},
   "outputs": [],
   "source": [
    "database.insert(biraj)"
   ]
  },
  {
   "cell_type": "code",
   "execution_count": 142,
   "id": "de1bb592-f46d-4d17-8ba3-01395adaff1b",
   "metadata": {},
   "outputs": [
    {
     "data": {
      "text/plain": [
       "[User: aakash, Name: Aakash Rai, email: aakash@example.com,\n",
       " User: biraj, Name: Biraj Das, email: biraj@example.com,\n",
       " User: hemanth, Name: Hemanth Jain, email: hemanth@example.com,\n",
       " User: siddhant, Name: Suddhant U, email: siddhantu@example.com]"
      ]
     },
     "execution_count": 142,
     "metadata": {},
     "output_type": "execute_result"
    }
   ],
   "source": [
    "database.list()"
   ]
  },
  {
   "cell_type": "code",
   "execution_count": 144,
   "id": "504e3a68-4143-44dd-8b20-c7978628de70",
   "metadata": {},
   "outputs": [
    {
     "name": "stdout",
     "output_type": "stream",
     "text": [
      "CPU times: user 11.1 s, sys: 0 ns, total: 11.1 s\n",
      "Wall time: 11.1 s\n"
     ]
    }
   ],
   "source": [
    "%%time\n",
    "for i in range(100000000):\n",
    "    j = i*i"
   ]
  },
  {
   "cell_type": "code",
   "execution_count": null,
   "id": "519bdc74-7f40-4fe0-9167-6a45bdd63d43",
   "metadata": {},
   "outputs": [],
   "source": []
  }
 ],
 "metadata": {
  "kernelspec": {
   "display_name": "Python 3 (ipykernel)",
   "language": "python",
   "name": "python3"
  },
  "language_info": {
   "codemirror_mode": {
    "name": "ipython",
    "version": 3
   },
   "file_extension": ".py",
   "mimetype": "text/x-python",
   "name": "python",
   "nbconvert_exporter": "python",
   "pygments_lexer": "ipython3",
   "version": "3.12.0"
  }
 },
 "nbformat": 4,
 "nbformat_minor": 5
}
