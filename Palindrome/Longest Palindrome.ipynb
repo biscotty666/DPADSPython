{
 "cells": [
  {
   "cell_type": "code",
   "execution_count": 81,
   "id": "41827666-db91-4c72-b815-394ef5c587a0",
   "metadata": {},
   "outputs": [],
   "source": [
    "class Solution:\n",
    "    def longestPalindrome(self, s: str) -> str:\n",
    "        res = \"\"\n",
    "        resLen = 0\n",
    "\n",
    "        for i in range(len(s)):\n",
    "            # odd numbered palindromes\n",
    "            l, r = i, i\n",
    "            while l >= 0 and r < len(s) and s[l] == s[r]:\n",
    "                if (r - l + 1) > resLen:\n",
    "                    res = s[l:r+1]\n",
    "                    resLen = r - l + 1\n",
    "                l -= 1\n",
    "                r += 1\n",
    "\n",
    "            # even numbered palindromes\n",
    "            l, r = i, i + 1\n",
    "            while l >= 0 and r < len(s) and s[l] == s[r]:\n",
    "                print(f\"resLen: {resLen}\")\n",
    "                if (r - 1 + 1) > resLen:\n",
    "                    res = s[l:r+1]\n",
    "                    resLen = r - l + 1\n",
    "                print(res, resLen)\n",
    "                l -= 1\n",
    "                r += 1\n",
    "\n",
    "        return res\n",
    "        "
   ]
  },
  {
   "cell_type": "code",
   "execution_count": 84,
   "id": "8f06165d-804d-4d84-973c-7d7c02d714c9",
   "metadata": {},
   "outputs": [],
   "source": [
    "string = \"babad\""
   ]
  },
  {
   "cell_type": "code",
   "execution_count": 85,
   "id": "18d4ed66-d626-4581-901f-8501779799ea",
   "metadata": {},
   "outputs": [
    {
     "name": "stdout",
     "output_type": "stream",
     "text": [
      "bab\n"
     ]
    }
   ],
   "source": [
    "print(Solution().longestPalindrome(string))"
   ]
  },
  {
   "cell_type": "code",
   "execution_count": 83,
   "id": "0b46341b-786d-42d6-b033-e7bda33ddc66",
   "metadata": {},
   "outputs": [
    {
     "data": {
      "text/plain": [
       "'bab'"
      ]
     },
     "execution_count": 83,
     "metadata": {},
     "output_type": "execute_result"
    }
   ],
   "source": [
    "sol.longestPalindrome(string)"
   ]
  },
  {
   "cell_type": "code",
   "execution_count": null,
   "id": "3c156795-d461-4c20-b50b-65d5a8348a19",
   "metadata": {},
   "outputs": [],
   "source": []
  }
 ],
 "metadata": {
  "kernelspec": {
   "display_name": "Python 3 (ipykernel)",
   "language": "python",
   "name": "python3"
  },
  "language_info": {
   "codemirror_mode": {
    "name": "ipython",
    "version": 3
   },
   "file_extension": ".py",
   "mimetype": "text/x-python",
   "name": "python",
   "nbconvert_exporter": "python",
   "pygments_lexer": "ipython3",
   "version": "3.12.1"
  }
 },
 "nbformat": 4,
 "nbformat_minor": 5
}
