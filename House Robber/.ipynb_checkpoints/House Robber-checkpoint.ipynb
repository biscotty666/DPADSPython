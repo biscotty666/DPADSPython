{
 "cells": [
  {
   "cell_type": "code",
   "execution_count": 1,
   "id": "ba2c3500-4448-41cb-998c-3978878ea816",
   "metadata": {},
   "outputs": [],
   "source": [
    "class Solution:\n",
    "    def rob(self, nums: list[int]) -> int:\n",
    "        rob1, rob2 = 0, 0\n",
    "\n",
    "        # [rob1, rob2, n, n+1, ...]\n",
    "        for n in nums:\n",
    "            temp = max(n + rob1, rob2)\n",
    "            rob1 = rob2\n",
    "            rob2 = temp\n",
    "\n",
    "        return rob2\n",
    "\n"
   ]
  },
  {
   "cell_type": "markdown",
   "id": "5b66dc75-e909-4209-8621-15b68b34e979",
   "metadata": {},
   "source": [
    "# House Robber\n",
    "\n",
    "## Problem\n",
    "\n",
    "A professional robber robs houses along the street, but cannot rob 2 adjacent houses without alerting the police. What is the maximum amount they can steal.\n",
    "\n",
    "### Example\n",
    "\n",
    "```\n",
    "Input: nums = [1,2,3,1]\n",
    "Output: 4\n",
    "Explanation: Best case, rob 1st and 3rd\n",
    "```\n",
    "\n",
    "![](20231223234249.png)\n",
    "\n",
    "Unlike [[Climbing Stairs]], we will work in normal order. Note that, in each case we store the maximum of the current result plus the prior-1 result or the prior result.\n",
    "\n",
    "![](20231223234432.png)\n"
   ]
  },
  {
   "cell_type": "code",
   "execution_count": 2,
   "id": "ec3a4a08-2a0c-4a97-8e23-8d71da39e6a5",
   "metadata": {},
   "outputs": [
    {
     "name": "stdout",
     "output_type": "stream",
     "text": [
      "4\n"
     ]
    }
   ],
   "source": [
    "nums = [1,2,3,1]\n",
    "max = Solution().rob(nums)\n",
    "print(max)"
   ]
  },
  {
   "cell_type": "code",
   "execution_count": null,
   "id": "691a043a-5fbf-4151-b4e4-b03276989883",
   "metadata": {},
   "outputs": [],
   "source": []
  }
 ],
 "metadata": {
  "kernelspec": {
   "display_name": "Python 3 (ipykernel)",
   "language": "python",
   "name": "python3"
  },
  "language_info": {
   "codemirror_mode": {
    "name": "ipython",
    "version": 3
   },
   "file_extension": ".py",
   "mimetype": "text/x-python",
   "name": "python",
   "nbconvert_exporter": "python",
   "pygments_lexer": "ipython3",
   "version": "3.12.1"
  }
 },
 "nbformat": 4,
 "nbformat_minor": 5
}
