{
 "cells": [
  {
   "cell_type": "code",
   "execution_count": 16,
   "id": "52853d1d-5325-4a97-bdda-5899d34bb6ec",
   "metadata": {},
   "outputs": [],
   "source": [
    "class Solution:\n",
    "    def rob(self, nums: list[int]) -> int:\n",
    "        return max(self.helper(nums[1:]),self.helper(nums[:-1]),nums[0])\n",
    "        ## Note that, in the case of only 1 house, nums[0] is required\n",
    "        ## in the expression\n",
    "\n",
    "    def helper(self, nums: list[int]) -> int:\n",
    "        rob1, rob2 = 0, 0\n",
    "        for n in nums:\n",
    "            temp = max(n + rob1, rob2)\n",
    "            rob1 = rob2\n",
    "            rob2 = temp\n",
    "\n",
    "        return rob2"
   ]
  },
  {
   "cell_type": "code",
   "execution_count": 17,
   "id": "55f87310-80d1-4e08-afbf-dedbb5e97264",
   "metadata": {},
   "outputs": [
    {
     "name": "stdout",
     "output_type": "stream",
     "text": [
      "3\n"
     ]
    }
   ],
   "source": [
    "nums = [2,3,2]\n",
    "print(Solution().rob(nums))"
   ]
  },
  {
   "cell_type": "code",
   "execution_count": null,
   "id": "05d9046c-1532-4fa4-86cb-e8051b88aebc",
   "metadata": {},
   "outputs": [],
   "source": []
  }
 ],
 "metadata": {
  "kernelspec": {
   "display_name": "Python 3 (ipykernel)",
   "language": "python",
   "name": "python3"
  },
  "language_info": {
   "codemirror_mode": {
    "name": "ipython",
    "version": 3
   },
   "file_extension": ".py",
   "mimetype": "text/x-python",
   "name": "python",
   "nbconvert_exporter": "python",
   "pygments_lexer": "ipython3",
   "version": "3.12.1"
  }
 },
 "nbformat": 4,
 "nbformat_minor": 5
}
